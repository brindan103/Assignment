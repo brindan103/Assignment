{
  "nbformat": 4,
  "nbformat_minor": 0,
  "metadata": {
    "colab": {
      "name": "revision2.ipynb",
      "provenance": [],
      "collapsed_sections": []
    },
    "kernelspec": {
      "name": "python3",
      "display_name": "Python 3"
    }
  },
  "cells": [
    {
      "cell_type": "code",
      "metadata": {
        "id": "UNrNwVcVUjcf"
      },
      "source": [
        "### concatenation, merge and joining Data frames in pandas"
      ],
      "execution_count": null,
      "outputs": []
    },
    {
      "cell_type": "markdown",
      "metadata": {
        "id": "Slk6yIOma6Uq"
      },
      "source": [
        "**Let us understand concatenation**"
      ]
    },
    {
      "cell_type": "code",
      "metadata": {
        "colab": {
          "base_uri": "https://localhost:8080/"
        },
        "id": "TcViUk4LbKnX",
        "outputId": "a3df2443-1333-4451-9dd0-953148b02486"
      },
      "source": [
        "import pandas as pd\n",
        "df1 = pd.DataFrame({'Item':['A','B','C','D'],\n",
        "                    'Value':[1,2,3,5]})\n",
        "df2 = pd.DataFrame({'Item':['E','F','G','H'],\n",
        "                    'Value':[5,6,7,8]})\n",
        "print(df1)\n",
        "print(df2)"
      ],
      "execution_count": 2,
      "outputs": [
        {
          "output_type": "stream",
          "text": [
            "  Item  Value\n",
            "0    A      1\n",
            "1    B      2\n",
            "2    C      3\n",
            "3    D      5\n",
            "  Item  Value\n",
            "0    E      5\n",
            "1    F      6\n",
            "2    G      7\n",
            "3    H      8\n"
          ],
          "name": "stdout"
        }
      ]
    },
    {
      "cell_type": "code",
      "metadata": {
        "colab": {
          "base_uri": "https://localhost:8080/",
          "height": 166
        },
        "id": "esQNvTSbeNP-",
        "outputId": "074da9c1-51e7-492f-b77f-313b5f93a878"
      },
      "source": [
        "df1"
      ],
      "execution_count": 3,
      "outputs": [
        {
          "output_type": "execute_result",
          "data": {
            "text/html": [
              "<div>\n",
              "<style scoped>\n",
              "    .dataframe tbody tr th:only-of-type {\n",
              "        vertical-align: middle;\n",
              "    }\n",
              "\n",
              "    .dataframe tbody tr th {\n",
              "        vertical-align: top;\n",
              "    }\n",
              "\n",
              "    .dataframe thead th {\n",
              "        text-align: right;\n",
              "    }\n",
              "</style>\n",
              "<table border=\"1\" class=\"dataframe\">\n",
              "  <thead>\n",
              "    <tr style=\"text-align: right;\">\n",
              "      <th></th>\n",
              "      <th>Item</th>\n",
              "      <th>Value</th>\n",
              "    </tr>\n",
              "  </thead>\n",
              "  <tbody>\n",
              "    <tr>\n",
              "      <th>0</th>\n",
              "      <td>A</td>\n",
              "      <td>1</td>\n",
              "    </tr>\n",
              "    <tr>\n",
              "      <th>1</th>\n",
              "      <td>B</td>\n",
              "      <td>2</td>\n",
              "    </tr>\n",
              "    <tr>\n",
              "      <th>2</th>\n",
              "      <td>C</td>\n",
              "      <td>3</td>\n",
              "    </tr>\n",
              "    <tr>\n",
              "      <th>3</th>\n",
              "      <td>D</td>\n",
              "      <td>5</td>\n",
              "    </tr>\n",
              "  </tbody>\n",
              "</table>\n",
              "</div>"
            ],
            "text/plain": [
              "  Item  Value\n",
              "0    A      1\n",
              "1    B      2\n",
              "2    C      3\n",
              "3    D      5"
            ]
          },
          "metadata": {
            "tags": []
          },
          "execution_count": 3
        }
      ]
    },
    {
      "cell_type": "code",
      "metadata": {
        "colab": {
          "base_uri": "https://localhost:8080/",
          "height": 166
        },
        "id": "xvLrKDpjeOSJ",
        "outputId": "2da98eb7-1f76-436f-e4aa-f74aec292fdf"
      },
      "source": [
        "df2"
      ],
      "execution_count": 4,
      "outputs": [
        {
          "output_type": "execute_result",
          "data": {
            "text/html": [
              "<div>\n",
              "<style scoped>\n",
              "    .dataframe tbody tr th:only-of-type {\n",
              "        vertical-align: middle;\n",
              "    }\n",
              "\n",
              "    .dataframe tbody tr th {\n",
              "        vertical-align: top;\n",
              "    }\n",
              "\n",
              "    .dataframe thead th {\n",
              "        text-align: right;\n",
              "    }\n",
              "</style>\n",
              "<table border=\"1\" class=\"dataframe\">\n",
              "  <thead>\n",
              "    <tr style=\"text-align: right;\">\n",
              "      <th></th>\n",
              "      <th>Item</th>\n",
              "      <th>Value</th>\n",
              "    </tr>\n",
              "  </thead>\n",
              "  <tbody>\n",
              "    <tr>\n",
              "      <th>0</th>\n",
              "      <td>E</td>\n",
              "      <td>5</td>\n",
              "    </tr>\n",
              "    <tr>\n",
              "      <th>1</th>\n",
              "      <td>F</td>\n",
              "      <td>6</td>\n",
              "    </tr>\n",
              "    <tr>\n",
              "      <th>2</th>\n",
              "      <td>G</td>\n",
              "      <td>7</td>\n",
              "    </tr>\n",
              "    <tr>\n",
              "      <th>3</th>\n",
              "      <td>H</td>\n",
              "      <td>8</td>\n",
              "    </tr>\n",
              "  </tbody>\n",
              "</table>\n",
              "</div>"
            ],
            "text/plain": [
              "  Item  Value\n",
              "0    E      5\n",
              "1    F      6\n",
              "2    G      7\n",
              "3    H      8"
            ]
          },
          "metadata": {
            "tags": []
          },
          "execution_count": 4
        }
      ]
    },
    {
      "cell_type": "code",
      "metadata": {
        "colab": {
          "base_uri": "https://localhost:8080/",
          "height": 286
        },
        "id": "L5codoWGePOe",
        "outputId": "3205fe9b-c21b-48aa-d350-bce553afc0d7"
      },
      "source": [
        "pd.concat([df1,df2])"
      ],
      "execution_count": 5,
      "outputs": [
        {
          "output_type": "execute_result",
          "data": {
            "text/html": [
              "<div>\n",
              "<style scoped>\n",
              "    .dataframe tbody tr th:only-of-type {\n",
              "        vertical-align: middle;\n",
              "    }\n",
              "\n",
              "    .dataframe tbody tr th {\n",
              "        vertical-align: top;\n",
              "    }\n",
              "\n",
              "    .dataframe thead th {\n",
              "        text-align: right;\n",
              "    }\n",
              "</style>\n",
              "<table border=\"1\" class=\"dataframe\">\n",
              "  <thead>\n",
              "    <tr style=\"text-align: right;\">\n",
              "      <th></th>\n",
              "      <th>Item</th>\n",
              "      <th>Value</th>\n",
              "    </tr>\n",
              "  </thead>\n",
              "  <tbody>\n",
              "    <tr>\n",
              "      <th>0</th>\n",
              "      <td>A</td>\n",
              "      <td>1</td>\n",
              "    </tr>\n",
              "    <tr>\n",
              "      <th>1</th>\n",
              "      <td>B</td>\n",
              "      <td>2</td>\n",
              "    </tr>\n",
              "    <tr>\n",
              "      <th>2</th>\n",
              "      <td>C</td>\n",
              "      <td>3</td>\n",
              "    </tr>\n",
              "    <tr>\n",
              "      <th>3</th>\n",
              "      <td>D</td>\n",
              "      <td>5</td>\n",
              "    </tr>\n",
              "    <tr>\n",
              "      <th>0</th>\n",
              "      <td>E</td>\n",
              "      <td>5</td>\n",
              "    </tr>\n",
              "    <tr>\n",
              "      <th>1</th>\n",
              "      <td>F</td>\n",
              "      <td>6</td>\n",
              "    </tr>\n",
              "    <tr>\n",
              "      <th>2</th>\n",
              "      <td>G</td>\n",
              "      <td>7</td>\n",
              "    </tr>\n",
              "    <tr>\n",
              "      <th>3</th>\n",
              "      <td>H</td>\n",
              "      <td>8</td>\n",
              "    </tr>\n",
              "  </tbody>\n",
              "</table>\n",
              "</div>"
            ],
            "text/plain": [
              "  Item  Value\n",
              "0    A      1\n",
              "1    B      2\n",
              "2    C      3\n",
              "3    D      5\n",
              "0    E      5\n",
              "1    F      6\n",
              "2    G      7\n",
              "3    H      8"
            ]
          },
          "metadata": {
            "tags": []
          },
          "execution_count": 5
        }
      ]
    },
    {
      "cell_type": "code",
      "metadata": {
        "colab": {
          "base_uri": "https://localhost:8080/",
          "height": 286
        },
        "id": "sWMjJ4RkelZT",
        "outputId": "f0c1d7bb-7ee6-4af7-bb34-82192e59ef45"
      },
      "source": [
        "import pandas as pd\n",
        "df1 = pd.DataFrame({'Item':['A','B','C','D'],\n",
        "                    'Value':[1,2,3,5]})\n",
        "df2 = pd.DataFrame({'Item':['E','F','G','H'],\n",
        "                    'Quantity':[5,6,7,8]})\n",
        "pd.concat([df1,df2])"
      ],
      "execution_count": 7,
      "outputs": [
        {
          "output_type": "execute_result",
          "data": {
            "text/html": [
              "<div>\n",
              "<style scoped>\n",
              "    .dataframe tbody tr th:only-of-type {\n",
              "        vertical-align: middle;\n",
              "    }\n",
              "\n",
              "    .dataframe tbody tr th {\n",
              "        vertical-align: top;\n",
              "    }\n",
              "\n",
              "    .dataframe thead th {\n",
              "        text-align: right;\n",
              "    }\n",
              "</style>\n",
              "<table border=\"1\" class=\"dataframe\">\n",
              "  <thead>\n",
              "    <tr style=\"text-align: right;\">\n",
              "      <th></th>\n",
              "      <th>Item</th>\n",
              "      <th>Value</th>\n",
              "      <th>Quantity</th>\n",
              "    </tr>\n",
              "  </thead>\n",
              "  <tbody>\n",
              "    <tr>\n",
              "      <th>0</th>\n",
              "      <td>A</td>\n",
              "      <td>1.0</td>\n",
              "      <td>NaN</td>\n",
              "    </tr>\n",
              "    <tr>\n",
              "      <th>1</th>\n",
              "      <td>B</td>\n",
              "      <td>2.0</td>\n",
              "      <td>NaN</td>\n",
              "    </tr>\n",
              "    <tr>\n",
              "      <th>2</th>\n",
              "      <td>C</td>\n",
              "      <td>3.0</td>\n",
              "      <td>NaN</td>\n",
              "    </tr>\n",
              "    <tr>\n",
              "      <th>3</th>\n",
              "      <td>D</td>\n",
              "      <td>5.0</td>\n",
              "      <td>NaN</td>\n",
              "    </tr>\n",
              "    <tr>\n",
              "      <th>0</th>\n",
              "      <td>E</td>\n",
              "      <td>NaN</td>\n",
              "      <td>5.0</td>\n",
              "    </tr>\n",
              "    <tr>\n",
              "      <th>1</th>\n",
              "      <td>F</td>\n",
              "      <td>NaN</td>\n",
              "      <td>6.0</td>\n",
              "    </tr>\n",
              "    <tr>\n",
              "      <th>2</th>\n",
              "      <td>G</td>\n",
              "      <td>NaN</td>\n",
              "      <td>7.0</td>\n",
              "    </tr>\n",
              "    <tr>\n",
              "      <th>3</th>\n",
              "      <td>H</td>\n",
              "      <td>NaN</td>\n",
              "      <td>8.0</td>\n",
              "    </tr>\n",
              "  </tbody>\n",
              "</table>\n",
              "</div>"
            ],
            "text/plain": [
              "  Item  Value  Quantity\n",
              "0    A    1.0       NaN\n",
              "1    B    2.0       NaN\n",
              "2    C    3.0       NaN\n",
              "3    D    5.0       NaN\n",
              "0    E    NaN       5.0\n",
              "1    F    NaN       6.0\n",
              "2    G    NaN       7.0\n",
              "3    H    NaN       8.0"
            ]
          },
          "metadata": {
            "tags": []
          },
          "execution_count": 7
        }
      ]
    },
    {
      "cell_type": "code",
      "metadata": {
        "colab": {
          "base_uri": "https://localhost:8080/",
          "height": 286
        },
        "id": "JSfTyio9fjLz",
        "outputId": "3a2af0de-7c75-45ac-91e4-4eecbc36eaa9"
      },
      "source": [
        "import pandas as pd\n",
        "df1 = pd.DataFrame({'Item':['A','B','C','D'],\n",
        "                    'Value':[1,2,3,5]})\n",
        "df2 = pd.DataFrame({'Item':['E','F','G','H'],\n",
        "                    'Quantity':[6,7,8,9]})\n",
        "pd.concat([df1,df2]).reset_index()"
      ],
      "execution_count": 8,
      "outputs": [
        {
          "output_type": "execute_result",
          "data": {
            "text/html": [
              "<div>\n",
              "<style scoped>\n",
              "    .dataframe tbody tr th:only-of-type {\n",
              "        vertical-align: middle;\n",
              "    }\n",
              "\n",
              "    .dataframe tbody tr th {\n",
              "        vertical-align: top;\n",
              "    }\n",
              "\n",
              "    .dataframe thead th {\n",
              "        text-align: right;\n",
              "    }\n",
              "</style>\n",
              "<table border=\"1\" class=\"dataframe\">\n",
              "  <thead>\n",
              "    <tr style=\"text-align: right;\">\n",
              "      <th></th>\n",
              "      <th>index</th>\n",
              "      <th>Item</th>\n",
              "      <th>Value</th>\n",
              "      <th>Quantity</th>\n",
              "    </tr>\n",
              "  </thead>\n",
              "  <tbody>\n",
              "    <tr>\n",
              "      <th>0</th>\n",
              "      <td>0</td>\n",
              "      <td>A</td>\n",
              "      <td>1.0</td>\n",
              "      <td>NaN</td>\n",
              "    </tr>\n",
              "    <tr>\n",
              "      <th>1</th>\n",
              "      <td>1</td>\n",
              "      <td>B</td>\n",
              "      <td>2.0</td>\n",
              "      <td>NaN</td>\n",
              "    </tr>\n",
              "    <tr>\n",
              "      <th>2</th>\n",
              "      <td>2</td>\n",
              "      <td>C</td>\n",
              "      <td>3.0</td>\n",
              "      <td>NaN</td>\n",
              "    </tr>\n",
              "    <tr>\n",
              "      <th>3</th>\n",
              "      <td>3</td>\n",
              "      <td>D</td>\n",
              "      <td>5.0</td>\n",
              "      <td>NaN</td>\n",
              "    </tr>\n",
              "    <tr>\n",
              "      <th>4</th>\n",
              "      <td>0</td>\n",
              "      <td>E</td>\n",
              "      <td>NaN</td>\n",
              "      <td>6.0</td>\n",
              "    </tr>\n",
              "    <tr>\n",
              "      <th>5</th>\n",
              "      <td>1</td>\n",
              "      <td>F</td>\n",
              "      <td>NaN</td>\n",
              "      <td>7.0</td>\n",
              "    </tr>\n",
              "    <tr>\n",
              "      <th>6</th>\n",
              "      <td>2</td>\n",
              "      <td>G</td>\n",
              "      <td>NaN</td>\n",
              "      <td>8.0</td>\n",
              "    </tr>\n",
              "    <tr>\n",
              "      <th>7</th>\n",
              "      <td>3</td>\n",
              "      <td>H</td>\n",
              "      <td>NaN</td>\n",
              "      <td>9.0</td>\n",
              "    </tr>\n",
              "  </tbody>\n",
              "</table>\n",
              "</div>"
            ],
            "text/plain": [
              "   index Item  Value  Quantity\n",
              "0      0    A    1.0       NaN\n",
              "1      1    B    2.0       NaN\n",
              "2      2    C    3.0       NaN\n",
              "3      3    D    5.0       NaN\n",
              "4      0    E    NaN       6.0\n",
              "5      1    F    NaN       7.0\n",
              "6      2    G    NaN       8.0\n",
              "7      3    H    NaN       9.0"
            ]
          },
          "metadata": {
            "tags": []
          },
          "execution_count": 8
        }
      ]
    },
    {
      "cell_type": "code",
      "metadata": {
        "colab": {
          "base_uri": "https://localhost:8080/",
          "height": 166
        },
        "id": "oyJKLrxpgkAK",
        "outputId": "2da67287-d089-4514-f816-7fd0063e7be4"
      },
      "source": [
        "pd.concat([df1,df2],axis=1)"
      ],
      "execution_count": 9,
      "outputs": [
        {
          "output_type": "execute_result",
          "data": {
            "text/html": [
              "<div>\n",
              "<style scoped>\n",
              "    .dataframe tbody tr th:only-of-type {\n",
              "        vertical-align: middle;\n",
              "    }\n",
              "\n",
              "    .dataframe tbody tr th {\n",
              "        vertical-align: top;\n",
              "    }\n",
              "\n",
              "    .dataframe thead th {\n",
              "        text-align: right;\n",
              "    }\n",
              "</style>\n",
              "<table border=\"1\" class=\"dataframe\">\n",
              "  <thead>\n",
              "    <tr style=\"text-align: right;\">\n",
              "      <th></th>\n",
              "      <th>Item</th>\n",
              "      <th>Value</th>\n",
              "      <th>Item</th>\n",
              "      <th>Quantity</th>\n",
              "    </tr>\n",
              "  </thead>\n",
              "  <tbody>\n",
              "    <tr>\n",
              "      <th>0</th>\n",
              "      <td>A</td>\n",
              "      <td>1</td>\n",
              "      <td>E</td>\n",
              "      <td>6</td>\n",
              "    </tr>\n",
              "    <tr>\n",
              "      <th>1</th>\n",
              "      <td>B</td>\n",
              "      <td>2</td>\n",
              "      <td>F</td>\n",
              "      <td>7</td>\n",
              "    </tr>\n",
              "    <tr>\n",
              "      <th>2</th>\n",
              "      <td>C</td>\n",
              "      <td>3</td>\n",
              "      <td>G</td>\n",
              "      <td>8</td>\n",
              "    </tr>\n",
              "    <tr>\n",
              "      <th>3</th>\n",
              "      <td>D</td>\n",
              "      <td>5</td>\n",
              "      <td>H</td>\n",
              "      <td>9</td>\n",
              "    </tr>\n",
              "  </tbody>\n",
              "</table>\n",
              "</div>"
            ],
            "text/plain": [
              "  Item  Value Item  Quantity\n",
              "0    A      1    E         6\n",
              "1    B      2    F         7\n",
              "2    C      3    G         8\n",
              "3    D      5    H         9"
            ]
          },
          "metadata": {
            "tags": []
          },
          "execution_count": 9
        }
      ]
    },
    {
      "cell_type": "markdown",
      "metadata": {
        "id": "SEoLjGK6hSs0"
      },
      "source": [
        "**use append to add multiple dataframes to another**"
      ]
    },
    {
      "cell_type": "code",
      "metadata": {
        "id": "IvyFGRC6hexc"
      },
      "source": [
        "import pandas as pd\n",
        "df1 = pd.DataFrame({'Item':['A','B','C','D'],\n",
        "                    'Value':[1,2,3,5]})\n",
        "df2 = pd.DataFrame({'Item':['E','F','G','H'],\n",
        "                    'Quantity':[6,7,8,9]})\n",
        "df3 = pd.DataFrame({'Item':['I','J','K','L'],\n",
        "                    'Quantity':[3,7,4,25]})"
      ],
      "execution_count": 11,
      "outputs": []
    },
    {
      "cell_type": "code",
      "metadata": {
        "colab": {
          "base_uri": "https://localhost:8080/",
          "height": 47
        },
        "id": "eacuD2-3iXKo",
        "outputId": "6649a3c1-77a7-4a9e-f195-186e004528e5"
      },
      "source": [
        "dfA = pd.DataFrame({'Key':['A','B','C','D'],\n",
        "                    'A':[1,2,3,5]})\n",
        "dfB = pd.DataFrame({'Key':['E','F','G','H'],\n",
        "                    'B':[6,7,8,9]})\n",
        "pd.merge(dfA,dfB, on='Key')"
      ],
      "execution_count": 10,
      "outputs": [
        {
          "output_type": "execute_result",
          "data": {
            "text/html": [
              "<div>\n",
              "<style scoped>\n",
              "    .dataframe tbody tr th:only-of-type {\n",
              "        vertical-align: middle;\n",
              "    }\n",
              "\n",
              "    .dataframe tbody tr th {\n",
              "        vertical-align: top;\n",
              "    }\n",
              "\n",
              "    .dataframe thead th {\n",
              "        text-align: right;\n",
              "    }\n",
              "</style>\n",
              "<table border=\"1\" class=\"dataframe\">\n",
              "  <thead>\n",
              "    <tr style=\"text-align: right;\">\n",
              "      <th></th>\n",
              "      <th>Key</th>\n",
              "      <th>A</th>\n",
              "      <th>B</th>\n",
              "    </tr>\n",
              "  </thead>\n",
              "  <tbody>\n",
              "  </tbody>\n",
              "</table>\n",
              "</div>"
            ],
            "text/plain": [
              "Empty DataFrame\n",
              "Columns: [Key, A, B]\n",
              "Index: []"
            ]
          },
          "metadata": {
            "tags": []
          },
          "execution_count": 10
        }
      ]
    },
    {
      "cell_type": "code",
      "metadata": {
        "colab": {
          "base_uri": "https://localhost:8080/",
          "height": 166
        },
        "id": "IGxNz-gOjC2M",
        "outputId": "28a5eb75-ca60-445a-fa6c-6b9e6464f7b7"
      },
      "source": [
        "dfA = pd.DataFrame({'Key':['K0','K1','K2','K3'],\n",
        "                     'A': ['A0','A1','A2','A3'],\n",
        "                     'B': ['B0','B1','B2','B3']})\n",
        "dfB = pd.DataFrame({'Key':['K0','K1','K2','K3'],\n",
        "                     'C': ['C0','C1','C2','C3'],\n",
        "                     'D': ['D0','D1','D2','D3']})\n",
        "\n",
        "pd.merge(dfA,dfB, on='Key')"
      ],
      "execution_count": 12,
      "outputs": [
        {
          "output_type": "execute_result",
          "data": {
            "text/html": [
              "<div>\n",
              "<style scoped>\n",
              "    .dataframe tbody tr th:only-of-type {\n",
              "        vertical-align: middle;\n",
              "    }\n",
              "\n",
              "    .dataframe tbody tr th {\n",
              "        vertical-align: top;\n",
              "    }\n",
              "\n",
              "    .dataframe thead th {\n",
              "        text-align: right;\n",
              "    }\n",
              "</style>\n",
              "<table border=\"1\" class=\"dataframe\">\n",
              "  <thead>\n",
              "    <tr style=\"text-align: right;\">\n",
              "      <th></th>\n",
              "      <th>Key</th>\n",
              "      <th>A</th>\n",
              "      <th>B</th>\n",
              "      <th>C</th>\n",
              "      <th>D</th>\n",
              "    </tr>\n",
              "  </thead>\n",
              "  <tbody>\n",
              "    <tr>\n",
              "      <th>0</th>\n",
              "      <td>K0</td>\n",
              "      <td>A0</td>\n",
              "      <td>B0</td>\n",
              "      <td>C0</td>\n",
              "      <td>D0</td>\n",
              "    </tr>\n",
              "    <tr>\n",
              "      <th>1</th>\n",
              "      <td>K1</td>\n",
              "      <td>A1</td>\n",
              "      <td>B1</td>\n",
              "      <td>C1</td>\n",
              "      <td>D1</td>\n",
              "    </tr>\n",
              "    <tr>\n",
              "      <th>2</th>\n",
              "      <td>K2</td>\n",
              "      <td>A2</td>\n",
              "      <td>B2</td>\n",
              "      <td>C2</td>\n",
              "      <td>D2</td>\n",
              "    </tr>\n",
              "    <tr>\n",
              "      <th>3</th>\n",
              "      <td>K3</td>\n",
              "      <td>A3</td>\n",
              "      <td>B3</td>\n",
              "      <td>C3</td>\n",
              "      <td>D3</td>\n",
              "    </tr>\n",
              "  </tbody>\n",
              "</table>\n",
              "</div>"
            ],
            "text/plain": [
              "  Key   A   B   C   D\n",
              "0  K0  A0  B0  C0  D0\n",
              "1  K1  A1  B1  C1  D1\n",
              "2  K2  A2  B2  C2  D2\n",
              "3  K3  A3  B3  C3  D3"
            ]
          },
          "metadata": {
            "tags": []
          },
          "execution_count": 12
        }
      ]
    },
    {
      "cell_type": "code",
      "metadata": {
        "id": "Z--Gw93-k_fx"
      },
      "source": [
        "joining"
      ],
      "execution_count": null,
      "outputs": []
    },
    {
      "cell_type": "code",
      "metadata": {
        "id": "vmcOKomDlBzo"
      },
      "source": [
        "left = pd.DataFrame({'A':['K0','K1','K2','K3'],\n",
        "                     'B': ['A0','A1','A2','A3']},\n",
        "                    index = ['B0','B1','B2','B3'])"
      ],
      "execution_count": 14,
      "outputs": []
    },
    {
      "cell_type": "code",
      "metadata": {
        "colab": {
          "base_uri": "https://localhost:8080/",
          "height": 166
        },
        "id": "X0S7U5a0sDxQ",
        "outputId": "81dda0c3-3ade-4000-d252-3902a75e121b"
      },
      "source": [
        "left"
      ],
      "execution_count": 15,
      "outputs": [
        {
          "output_type": "execute_result",
          "data": {
            "text/html": [
              "<div>\n",
              "<style scoped>\n",
              "    .dataframe tbody tr th:only-of-type {\n",
              "        vertical-align: middle;\n",
              "    }\n",
              "\n",
              "    .dataframe tbody tr th {\n",
              "        vertical-align: top;\n",
              "    }\n",
              "\n",
              "    .dataframe thead th {\n",
              "        text-align: right;\n",
              "    }\n",
              "</style>\n",
              "<table border=\"1\" class=\"dataframe\">\n",
              "  <thead>\n",
              "    <tr style=\"text-align: right;\">\n",
              "      <th></th>\n",
              "      <th>A</th>\n",
              "      <th>B</th>\n",
              "    </tr>\n",
              "  </thead>\n",
              "  <tbody>\n",
              "    <tr>\n",
              "      <th>B0</th>\n",
              "      <td>K0</td>\n",
              "      <td>A0</td>\n",
              "    </tr>\n",
              "    <tr>\n",
              "      <th>B1</th>\n",
              "      <td>K1</td>\n",
              "      <td>A1</td>\n",
              "    </tr>\n",
              "    <tr>\n",
              "      <th>B2</th>\n",
              "      <td>K2</td>\n",
              "      <td>A2</td>\n",
              "    </tr>\n",
              "    <tr>\n",
              "      <th>B3</th>\n",
              "      <td>K3</td>\n",
              "      <td>A3</td>\n",
              "    </tr>\n",
              "  </tbody>\n",
              "</table>\n",
              "</div>"
            ],
            "text/plain": [
              "     A   B\n",
              "B0  K0  A0\n",
              "B1  K1  A1\n",
              "B2  K2  A2\n",
              "B3  K3  A3"
            ]
          },
          "metadata": {
            "tags": []
          },
          "execution_count": 15
        }
      ]
    },
    {
      "cell_type": "code",
      "metadata": {
        "colab": {
          "base_uri": "https://localhost:8080/",
          "height": 166
        },
        "id": "USRL_-Y7sNM-",
        "outputId": "d334df7a-4a52-48f9-eab3-d252dea3a59c"
      },
      "source": [
        "right = pd.DataFrame({'A':['K0','K1','K2','K3'],\n",
        "                     'B': ['A0','A1','A2','A3']},\n",
        "                    index = ['B0','B1','B2','B3'])\n",
        "right"
      ],
      "execution_count": 16,
      "outputs": [
        {
          "output_type": "execute_result",
          "data": {
            "text/html": [
              "<div>\n",
              "<style scoped>\n",
              "    .dataframe tbody tr th:only-of-type {\n",
              "        vertical-align: middle;\n",
              "    }\n",
              "\n",
              "    .dataframe tbody tr th {\n",
              "        vertical-align: top;\n",
              "    }\n",
              "\n",
              "    .dataframe thead th {\n",
              "        text-align: right;\n",
              "    }\n",
              "</style>\n",
              "<table border=\"1\" class=\"dataframe\">\n",
              "  <thead>\n",
              "    <tr style=\"text-align: right;\">\n",
              "      <th></th>\n",
              "      <th>A</th>\n",
              "      <th>B</th>\n",
              "    </tr>\n",
              "  </thead>\n",
              "  <tbody>\n",
              "    <tr>\n",
              "      <th>B0</th>\n",
              "      <td>K0</td>\n",
              "      <td>A0</td>\n",
              "    </tr>\n",
              "    <tr>\n",
              "      <th>B1</th>\n",
              "      <td>K1</td>\n",
              "      <td>A1</td>\n",
              "    </tr>\n",
              "    <tr>\n",
              "      <th>B2</th>\n",
              "      <td>K2</td>\n",
              "      <td>A2</td>\n",
              "    </tr>\n",
              "    <tr>\n",
              "      <th>B3</th>\n",
              "      <td>K3</td>\n",
              "      <td>A3</td>\n",
              "    </tr>\n",
              "  </tbody>\n",
              "</table>\n",
              "</div>"
            ],
            "text/plain": [
              "     A   B\n",
              "B0  K0  A0\n",
              "B1  K1  A1\n",
              "B2  K2  A2\n",
              "B3  K3  A3"
            ]
          },
          "metadata": {
            "tags": []
          },
          "execution_count": 16
        }
      ]
    },
    {
      "cell_type": "code",
      "metadata": {
        "colab": {
          "base_uri": "https://localhost:8080/",
          "height": 166
        },
        "id": "zQVx9-DtsYZm",
        "outputId": "adcdb950-768d-4b80-a8d9-78366f59317d"
      },
      "source": [
        "left = pd.DataFrame({'A':['K0','K1','K2','K3'],\n",
        "                     'B': ['A0','A1','A2','A3']},\n",
        "                    index = ['B0','B1','B2','B3'])\n",
        "left"
      ],
      "execution_count": 18,
      "outputs": [
        {
          "output_type": "execute_result",
          "data": {
            "text/html": [
              "<div>\n",
              "<style scoped>\n",
              "    .dataframe tbody tr th:only-of-type {\n",
              "        vertical-align: middle;\n",
              "    }\n",
              "\n",
              "    .dataframe tbody tr th {\n",
              "        vertical-align: top;\n",
              "    }\n",
              "\n",
              "    .dataframe thead th {\n",
              "        text-align: right;\n",
              "    }\n",
              "</style>\n",
              "<table border=\"1\" class=\"dataframe\">\n",
              "  <thead>\n",
              "    <tr style=\"text-align: right;\">\n",
              "      <th></th>\n",
              "      <th>A</th>\n",
              "      <th>B</th>\n",
              "    </tr>\n",
              "  </thead>\n",
              "  <tbody>\n",
              "    <tr>\n",
              "      <th>B0</th>\n",
              "      <td>K0</td>\n",
              "      <td>A0</td>\n",
              "    </tr>\n",
              "    <tr>\n",
              "      <th>B1</th>\n",
              "      <td>K1</td>\n",
              "      <td>A1</td>\n",
              "    </tr>\n",
              "    <tr>\n",
              "      <th>B2</th>\n",
              "      <td>K2</td>\n",
              "      <td>A2</td>\n",
              "    </tr>\n",
              "    <tr>\n",
              "      <th>B3</th>\n",
              "      <td>K3</td>\n",
              "      <td>A3</td>\n",
              "    </tr>\n",
              "  </tbody>\n",
              "</table>\n",
              "</div>"
            ],
            "text/plain": [
              "     A   B\n",
              "B0  K0  A0\n",
              "B1  K1  A1\n",
              "B2  K2  A2\n",
              "B3  K3  A3"
            ]
          },
          "metadata": {
            "tags": []
          },
          "execution_count": 18
        }
      ]
    },
    {
      "cell_type": "code",
      "metadata": {
        "colab": {
          "base_uri": "https://localhost:8080/",
          "height": 137
        },
        "id": "FJ0aLwCUsn7O",
        "outputId": "aeedac34-6ef3-4bdd-f6e6-39052b08d425"
      },
      "source": [
        "left = pd.DataFrame({'A':['A0','A1','A2'],\n",
        "                     'B': ['B0','B1','B2']},\n",
        "                    index = ['K0','K1','K2'])\n",
        "left"
      ],
      "execution_count": 19,
      "outputs": [
        {
          "output_type": "execute_result",
          "data": {
            "text/html": [
              "<div>\n",
              "<style scoped>\n",
              "    .dataframe tbody tr th:only-of-type {\n",
              "        vertical-align: middle;\n",
              "    }\n",
              "\n",
              "    .dataframe tbody tr th {\n",
              "        vertical-align: top;\n",
              "    }\n",
              "\n",
              "    .dataframe thead th {\n",
              "        text-align: right;\n",
              "    }\n",
              "</style>\n",
              "<table border=\"1\" class=\"dataframe\">\n",
              "  <thead>\n",
              "    <tr style=\"text-align: right;\">\n",
              "      <th></th>\n",
              "      <th>A</th>\n",
              "      <th>B</th>\n",
              "    </tr>\n",
              "  </thead>\n",
              "  <tbody>\n",
              "    <tr>\n",
              "      <th>K0</th>\n",
              "      <td>A0</td>\n",
              "      <td>B0</td>\n",
              "    </tr>\n",
              "    <tr>\n",
              "      <th>K1</th>\n",
              "      <td>A1</td>\n",
              "      <td>B1</td>\n",
              "    </tr>\n",
              "    <tr>\n",
              "      <th>K2</th>\n",
              "      <td>A2</td>\n",
              "      <td>B2</td>\n",
              "    </tr>\n",
              "  </tbody>\n",
              "</table>\n",
              "</div>"
            ],
            "text/plain": [
              "     A   B\n",
              "K0  A0  B0\n",
              "K1  A1  B1\n",
              "K2  A2  B2"
            ]
          },
          "metadata": {
            "tags": []
          },
          "execution_count": 19
        }
      ]
    },
    {
      "cell_type": "code",
      "metadata": {
        "colab": {
          "base_uri": "https://localhost:8080/",
          "height": 137
        },
        "id": "O3l9HuIRtE-X",
        "outputId": "4cc07e9a-b351-4c58-a71f-11fa02775e3e"
      },
      "source": [
        "right = pd.DataFrame({'C':['C0','C1','C2'],\n",
        "                     'D':['D0','D1','D2',]},\n",
        "                      index = ['K0','K1','K2'])\n",
        "right"
      ],
      "execution_count": 20,
      "outputs": [
        {
          "output_type": "execute_result",
          "data": {
            "text/html": [
              "<div>\n",
              "<style scoped>\n",
              "    .dataframe tbody tr th:only-of-type {\n",
              "        vertical-align: middle;\n",
              "    }\n",
              "\n",
              "    .dataframe tbody tr th {\n",
              "        vertical-align: top;\n",
              "    }\n",
              "\n",
              "    .dataframe thead th {\n",
              "        text-align: right;\n",
              "    }\n",
              "</style>\n",
              "<table border=\"1\" class=\"dataframe\">\n",
              "  <thead>\n",
              "    <tr style=\"text-align: right;\">\n",
              "      <th></th>\n",
              "      <th>C</th>\n",
              "      <th>D</th>\n",
              "    </tr>\n",
              "  </thead>\n",
              "  <tbody>\n",
              "    <tr>\n",
              "      <th>K0</th>\n",
              "      <td>C0</td>\n",
              "      <td>D0</td>\n",
              "    </tr>\n",
              "    <tr>\n",
              "      <th>K1</th>\n",
              "      <td>C1</td>\n",
              "      <td>D1</td>\n",
              "    </tr>\n",
              "    <tr>\n",
              "      <th>K2</th>\n",
              "      <td>C2</td>\n",
              "      <td>D2</td>\n",
              "    </tr>\n",
              "  </tbody>\n",
              "</table>\n",
              "</div>"
            ],
            "text/plain": [
              "     C   D\n",
              "K0  C0  D0\n",
              "K1  C1  D1\n",
              "K2  C2  D2"
            ]
          },
          "metadata": {
            "tags": []
          },
          "execution_count": 20
        }
      ]
    },
    {
      "cell_type": "code",
      "metadata": {
        "colab": {
          "base_uri": "https://localhost:8080/",
          "height": 137
        },
        "id": "DFVVuMeTuO4I",
        "outputId": "fc036b28-b921-4636-9924-ebd4d0e72a67"
      },
      "source": [
        "left.join(right)"
      ],
      "execution_count": 21,
      "outputs": [
        {
          "output_type": "execute_result",
          "data": {
            "text/html": [
              "<div>\n",
              "<style scoped>\n",
              "    .dataframe tbody tr th:only-of-type {\n",
              "        vertical-align: middle;\n",
              "    }\n",
              "\n",
              "    .dataframe tbody tr th {\n",
              "        vertical-align: top;\n",
              "    }\n",
              "\n",
              "    .dataframe thead th {\n",
              "        text-align: right;\n",
              "    }\n",
              "</style>\n",
              "<table border=\"1\" class=\"dataframe\">\n",
              "  <thead>\n",
              "    <tr style=\"text-align: right;\">\n",
              "      <th></th>\n",
              "      <th>A</th>\n",
              "      <th>B</th>\n",
              "      <th>C</th>\n",
              "      <th>D</th>\n",
              "    </tr>\n",
              "  </thead>\n",
              "  <tbody>\n",
              "    <tr>\n",
              "      <th>K0</th>\n",
              "      <td>A0</td>\n",
              "      <td>B0</td>\n",
              "      <td>C0</td>\n",
              "      <td>D0</td>\n",
              "    </tr>\n",
              "    <tr>\n",
              "      <th>K1</th>\n",
              "      <td>A1</td>\n",
              "      <td>B1</td>\n",
              "      <td>C1</td>\n",
              "      <td>D1</td>\n",
              "    </tr>\n",
              "    <tr>\n",
              "      <th>K2</th>\n",
              "      <td>A2</td>\n",
              "      <td>B2</td>\n",
              "      <td>C2</td>\n",
              "      <td>D2</td>\n",
              "    </tr>\n",
              "  </tbody>\n",
              "</table>\n",
              "</div>"
            ],
            "text/plain": [
              "     A   B   C   D\n",
              "K0  A0  B0  C0  D0\n",
              "K1  A1  B1  C1  D1\n",
              "K2  A2  B2  C2  D2"
            ]
          },
          "metadata": {
            "tags": []
          },
          "execution_count": 21
        }
      ]
    },
    {
      "cell_type": "code",
      "metadata": {
        "colab": {
          "base_uri": "https://localhost:8080/",
          "height": 137
        },
        "id": "HLi7uOA8uVxI",
        "outputId": "773be82f-90b8-4fb7-ea9a-3ad4085ae2bd"
      },
      "source": [
        "left.join(right,how='outer')"
      ],
      "execution_count": 22,
      "outputs": [
        {
          "output_type": "execute_result",
          "data": {
            "text/html": [
              "<div>\n",
              "<style scoped>\n",
              "    .dataframe tbody tr th:only-of-type {\n",
              "        vertical-align: middle;\n",
              "    }\n",
              "\n",
              "    .dataframe tbody tr th {\n",
              "        vertical-align: top;\n",
              "    }\n",
              "\n",
              "    .dataframe thead th {\n",
              "        text-align: right;\n",
              "    }\n",
              "</style>\n",
              "<table border=\"1\" class=\"dataframe\">\n",
              "  <thead>\n",
              "    <tr style=\"text-align: right;\">\n",
              "      <th></th>\n",
              "      <th>A</th>\n",
              "      <th>B</th>\n",
              "      <th>C</th>\n",
              "      <th>D</th>\n",
              "    </tr>\n",
              "  </thead>\n",
              "  <tbody>\n",
              "    <tr>\n",
              "      <th>K0</th>\n",
              "      <td>A0</td>\n",
              "      <td>B0</td>\n",
              "      <td>C0</td>\n",
              "      <td>D0</td>\n",
              "    </tr>\n",
              "    <tr>\n",
              "      <th>K1</th>\n",
              "      <td>A1</td>\n",
              "      <td>B1</td>\n",
              "      <td>C1</td>\n",
              "      <td>D1</td>\n",
              "    </tr>\n",
              "    <tr>\n",
              "      <th>K2</th>\n",
              "      <td>A2</td>\n",
              "      <td>B2</td>\n",
              "      <td>C2</td>\n",
              "      <td>D2</td>\n",
              "    </tr>\n",
              "  </tbody>\n",
              "</table>\n",
              "</div>"
            ],
            "text/plain": [
              "     A   B   C   D\n",
              "K0  A0  B0  C0  D0\n",
              "K1  A1  B1  C1  D1\n",
              "K2  A2  B2  C2  D2"
            ]
          },
          "metadata": {
            "tags": []
          },
          "execution_count": 22
        }
      ]
    },
    {
      "cell_type": "code",
      "metadata": {
        "colab": {
          "base_uri": "https://localhost:8080/"
        },
        "id": "DxI4uOqvpxBG",
        "outputId": "5de86920-6455-4f57-bdd0-ec5318a09dad"
      },
      "source": [
        "# Python program for finding H.C.F of two input numbers\n",
        "\n",
        "def computeHCF(x,y):\n",
        "\n",
        "# chosse the smaller number\n",
        "    if x>y:\n",
        "      smaller = y\n",
        "    else:\n",
        "      smaller = x\n",
        "    for i in range(1, smaller+1):\n",
        "       if ((x % i == 0) and (y % i == 0)):\n",
        "         hcf =i\n",
        "\n",
        "    return hcf\n",
        "\n",
        "num1 = int(input(\"Enter first number\"))\n",
        "num2 = int(input(\"Enter second number\"))\n",
        "\n",
        "print(\"The H.C.F of\",num1,\"and\",num2,\"is\", computeHCF(num1,num2))"
      ],
      "execution_count": 23,
      "outputs": [
        {
          "output_type": "stream",
          "text": [
            "Enter first number32\n",
            "Enter second number56\n",
            "The H.C.F of 32 and 56 is 8\n"
          ],
          "name": "stdout"
        }
      ]
    },
    {
      "cell_type": "code",
      "metadata": {
        "colab": {
          "base_uri": "https://localhost:8080/"
        },
        "id": "r1uQmW5wp4RZ",
        "outputId": "c8d42bce-22a9-4bb9-c8de-b883582b08b8"
      },
      "source": [
        "# Python program for finding H.C.F of two input numbers\n",
        "\n",
        "def computeHCF(x,y):\n",
        "\n",
        "# chosse the smaller number\n",
        "    if x>y:\n",
        "      smaller = y\n",
        "    else:\n",
        "      smaller = x\n",
        "    for i in range(1, smaller+1):\n",
        "       if ((x % i == 0) and (y % i == 0)):\n",
        "         hcf =i\n",
        "\n",
        "    return hcf\n",
        "\n",
        "num1 = int(input(\"Enter first number\"))\n",
        "num2 = int(input(\"Enter second number\"))\n",
        "\n",
        "print(\"The H.C.F of\",num1,\"and\",num2,\"is\", computeHCF(num1,num2))"
      ],
      "execution_count": 24,
      "outputs": [
        {
          "output_type": "stream",
          "text": [
            "Enter first number56\n",
            "Enter second number78\n",
            "The H.C.F of 56 and 78 is 2\n"
          ],
          "name": "stdout"
        }
      ]
    },
    {
      "cell_type": "code",
      "metadata": {
        "colab": {
          "base_uri": "https://localhost:8080/"
        },
        "id": "ARYtd_91usbA",
        "outputId": "a4193956-9912-41fe-8040-b240f9451d23"
      },
      "source": [
        "# Python program for finding H.C.F of two input numbers\n",
        "\n",
        "def computeHCF(x,y):\n",
        "\n",
        "# chosse the smaller number\n",
        "    if x>y:\n",
        "      smaller = y\n",
        "    else:\n",
        "      smaller = x\n",
        "    for i in range(1, smaller+1):\n",
        "       if ((x % i == 0) and (y % i == 0)):\n",
        "         hcf =i\n",
        "\n",
        "    return hcf\n",
        "\n",
        "num1 = int(input(\"Enter first number\"))\n",
        "num2 = int(input(\"Enter second number\"))\n",
        "\n",
        "print(\"The H.C.F of\",num1,\"and\",num2,\"is\", computeHCF(num1,num2))"
      ],
      "execution_count": 25,
      "outputs": [
        {
          "output_type": "stream",
          "text": [
            "Enter first number76\n",
            "Enter second number78\n",
            "The H.C.F of 76 and 78 is 2\n"
          ],
          "name": "stdout"
        }
      ]
    },
    {
      "cell_type": "markdown",
      "metadata": {
        "id": "eMqJ-KMRTiHo"
      },
      "source": [
        "## **phython Dictionaries**"
      ]
    },
    {
      "cell_type": "code",
      "metadata": {
        "colab": {
          "base_uri": "https://localhost:8080/"
        },
        "id": "oix_CM0uTpmW",
        "outputId": "ebd696c8-9bac-43ca-a8d0-244c9a6005bf"
      },
      "source": [
        "thisdict = {\n",
        "    \"Brand\": \"Ford\",\n",
        "    \"Model\": \"Mustang\",\n",
        "    \"Year\": 1984\n",
        "}\n",
        "print(thisdict)    "
      ],
      "execution_count": 26,
      "outputs": [
        {
          "output_type": "stream",
          "text": [
            "{'Brand': 'Ford', 'Model': 'Mustang', 'Year': 1984}\n"
          ],
          "name": "stdout"
        }
      ]
    },
    {
      "cell_type": "code",
      "metadata": {
        "colab": {
          "base_uri": "https://localhost:8080/"
        },
        "id": "6fhO18CSUCsU",
        "outputId": "daf68de2-5a5f-4fd7-bf48-58d9823b9994"
      },
      "source": [
        "thisdict = {\n",
        "    \"country\":\"india\",\n",
        "    \"state\":\"karnataka\",\n",
        "    \"year\":2000\n",
        "}\n",
        "print(thisdict)"
      ],
      "execution_count": 27,
      "outputs": [
        {
          "output_type": "stream",
          "text": [
            "{'country': 'india', 'state': 'karnataka', 'year': 2000}\n"
          ],
          "name": "stdout"
        }
      ]
    },
    {
      "cell_type": "code",
      "metadata": {
        "colab": {
          "base_uri": "https://localhost:8080/"
        },
        "id": "lHoNIO_HUvhq",
        "outputId": "79826f66-39c4-4338-8452-3a7e73dff603"
      },
      "source": [
        "thisdict = {\n",
        "    \"Brand\": \"Ford\",\n",
        "    \"Model\": \"Mustang\",\n",
        "    \"Year\": 1984,\n",
        "    \"country\": \"india\"\n",
        "}\n",
        "print(thisdict)    "
      ],
      "execution_count": 28,
      "outputs": [
        {
          "output_type": "stream",
          "text": [
            "{'Brand': 'Ford', 'Model': 'Mustang', 'Year': 1984, 'country': 'india'}\n"
          ],
          "name": "stdout"
        }
      ]
    },
    {
      "cell_type": "code",
      "metadata": {
        "colab": {
          "base_uri": "https://localhost:8080/"
        },
        "id": "g0-XmW4pU5cR",
        "outputId": "e0ad94d7-0e98-46bd-94ce-02f0d310542d"
      },
      "source": [
        "thisdict = {\n",
        "    \"Brand\": \"Ford\",\n",
        "    \"Model\": \"Mustang\",\n",
        "    \"Year\": 1984,\n",
        "    \"country\": \"india\"\n",
        "}\n",
        "print(thisdict[\"Brand\"])    "
      ],
      "execution_count": 29,
      "outputs": [
        {
          "output_type": "stream",
          "text": [
            "Ford\n"
          ],
          "name": "stdout"
        }
      ]
    },
    {
      "cell_type": "code",
      "metadata": {
        "colab": {
          "base_uri": "https://localhost:8080/"
        },
        "id": "PemqQYV4U-xJ",
        "outputId": "11f5c46b-3b2e-4992-e4af-b6455cc77fbf"
      },
      "source": [
        "thisdict = {\n",
        "    \"Brand\": \"Ford\",\n",
        "    \"Model\": \"Mustang\",\n",
        "    \"Year\": 1984,\n",
        "     \"country\": \"india\"\n",
        "}\n",
        "print(thisdict[\"Year\"])    "
      ],
      "execution_count": 30,
      "outputs": [
        {
          "output_type": "stream",
          "text": [
            "1984\n"
          ],
          "name": "stdout"
        }
      ]
    },
    {
      "cell_type": "code",
      "metadata": {
        "colab": {
          "base_uri": "https://localhost:8080/"
        },
        "id": "UuBjD17OVMKx",
        "outputId": "dbd28291-2564-4815-a1a6-63aa5d6e3a6c"
      },
      "source": [
        "thisdict = {\n",
        "    \"Brand\": \"Ford\",\n",
        "    \"Model\": \"Mustang\",\n",
        "    \"Year\": 1984,\n",
        "     \"country\": \"india\",\n",
        "     \"Year\": 2020\n",
        "}\n",
        "print(thisdict[\"Year\"])    "
      ],
      "execution_count": 31,
      "outputs": [
        {
          "output_type": "stream",
          "text": [
            "2020\n"
          ],
          "name": "stdout"
        }
      ]
    },
    {
      "cell_type": "code",
      "metadata": {
        "colab": {
          "base_uri": "https://localhost:8080/"
        },
        "id": "FnY-IKVCVcv0",
        "outputId": "62a3b9e0-3a8c-487b-dac4-847d4ad1c14d"
      },
      "source": [
        "print(len(thisdict))"
      ],
      "execution_count": 32,
      "outputs": [
        {
          "output_type": "stream",
          "text": [
            "4\n"
          ],
          "name": "stdout"
        }
      ]
    },
    {
      "cell_type": "code",
      "metadata": {
        "colab": {
          "base_uri": "https://localhost:8080/"
        },
        "id": "OLuB5SmXXDMj",
        "outputId": "6e538d17-8747-4e0e-f195-0bc8078d702c"
      },
      "source": [
        "thisdict = {\n",
        "    \"Brand\": \"Ford\",\n",
        "    \"Model\": \"Mustang\",\n",
        "     \"country\": \"india\",\n",
        "     \"Year\": 2020\n",
        "}\n",
        "print(thisdict[\"Year\"])    "
      ],
      "execution_count": 33,
      "outputs": [
        {
          "output_type": "stream",
          "text": [
            "2020\n"
          ],
          "name": "stdout"
        }
      ]
    },
    {
      "cell_type": "code",
      "metadata": {
        "colab": {
          "base_uri": "https://localhost:8080/"
        },
        "id": "CS1h72IdXMn0",
        "outputId": "8f99980e-9f8f-4c61-d343-11956007f86c"
      },
      "source": [
        "print(len(thisdict))"
      ],
      "execution_count": 34,
      "outputs": [
        {
          "output_type": "stream",
          "text": [
            "4\n"
          ],
          "name": "stdout"
        }
      ]
    },
    {
      "cell_type": "code",
      "metadata": {
        "colab": {
          "base_uri": "https://localhost:8080/"
        },
        "id": "xICQ2hB8XXD5",
        "outputId": "0351a501-051f-411d-aec0-1c51ecf04fea"
      },
      "source": [
        "thisdict = {\n",
        "    \"Brand\": \"Ford\",\n",
        "    \"Model\": \"Mustang\",\n",
        "     \"country\": \"india\"\n",
        "}\n",
        "print(thisdict[\"Model\"])    "
      ],
      "execution_count": 35,
      "outputs": [
        {
          "output_type": "stream",
          "text": [
            "Mustang\n"
          ],
          "name": "stdout"
        }
      ]
    },
    {
      "cell_type": "code",
      "metadata": {
        "colab": {
          "base_uri": "https://localhost:8080/"
        },
        "id": "GwoQnxBbXfk1",
        "outputId": "47ab866d-f7b4-4311-efe2-ac4034036c0e"
      },
      "source": [
        "print(len(thisdict))"
      ],
      "execution_count": 36,
      "outputs": [
        {
          "output_type": "stream",
          "text": [
            "3\n"
          ],
          "name": "stdout"
        }
      ]
    },
    {
      "cell_type": "code",
      "metadata": {
        "colab": {
          "base_uri": "https://localhost:8080/"
        },
        "id": "9w3Pps_dXobh",
        "outputId": "f0d1e7d9-26a8-4b3d-c3c8-6f2d4852d38d"
      },
      "source": [
        "thisdict = {\n",
        "    \"Brand\": \"Ford\",\n",
        "    \"Model\": \"Mustang\",\n",
        "     \"country\": \"india\",\n",
        "     \"Year\":1978,\n",
        "     \"Colors\":[\"red\",\"white\",\"blue\"]\n",
        "}\n",
        "print(thisdict)    \n",
        "print(type(thisdict))"
      ],
      "execution_count": 37,
      "outputs": [
        {
          "output_type": "stream",
          "text": [
            "{'Brand': 'Ford', 'Model': 'Mustang', 'country': 'india', 'Year': 1978, 'Colors': ['red', 'white', 'blue']}\n",
            "<class 'dict'>\n"
          ],
          "name": "stdout"
        }
      ]
    },
    {
      "cell_type": "code",
      "metadata": {
        "colab": {
          "base_uri": "https://localhost:8080/"
        },
        "id": "PEZQT1eVX-o7",
        "outputId": "c1e21e2c-8cac-4a5a-c65e-0cb69df59b8a"
      },
      "source": [
        "thisdict = {\n",
        "    \"Brand\": \"Ford\",\n",
        "    \"Model\": \"Mustang\",\n",
        "     \"country\": \"india\",\n",
        "     \"Year\":1978,\n",
        "     \"Colors\":[\"red\",\"white\",\"blue\"]\n",
        "}\n",
        "print(thisdict)    "
      ],
      "execution_count": 38,
      "outputs": [
        {
          "output_type": "stream",
          "text": [
            "{'Brand': 'Ford', 'Model': 'Mustang', 'country': 'india', 'Year': 1978, 'Colors': ['red', 'white', 'blue']}\n"
          ],
          "name": "stdout"
        }
      ]
    },
    {
      "cell_type": "code",
      "metadata": {
        "id": "Y0mWqHu0ZOLY"
      },
      "source": [
        ""
      ],
      "execution_count": 38,
      "outputs": []
    }
  ]
}