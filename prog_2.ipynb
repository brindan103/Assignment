{
  "nbformat": 4,
  "nbformat_minor": 0,
  "metadata": {
    "colab": {
      "name": "prog 2.ipynb",
      "provenance": [],
      "collapsed_sections": []
    },
    "kernelspec": {
      "name": "python3",
      "display_name": "Python 3"
    }
  },
  "cells": [
    {
      "cell_type": "markdown",
      "metadata": {
        "id": "dy3qqvNKqXf1"
      },
      "source": [
        "# **Dictionaries**"
      ]
    },
    {
      "cell_type": "code",
      "metadata": {
        "id": "GAZ4lOFPRH_0",
        "colab": {
          "base_uri": "https://localhost:8080/"
        },
        "outputId": "2f29666b-8efb-43c8-a7ff-917ace8f77f3"
      },
      "source": [
        "# creating a dictionary\n",
        "country_info={\"name\":\"India\",\"Capital\":\"Delhi\"}\n",
        "print(country_info)"
      ],
      "execution_count": null,
      "outputs": [
        {
          "output_type": "stream",
          "text": [
            "{'name': 'India', 'Capital': 'Delhi'}\n"
          ],
          "name": "stdout"
        }
      ]
    },
    {
      "cell_type": "code",
      "metadata": {
        "id": "1U6CHHgIreVf",
        "colab": {
          "base_uri": "https://localhost:8080/"
        },
        "outputId": "eb63bfd8-34a4-465f-b2d7-f04f9ef9228a"
      },
      "source": [
        "country_info = { \"Name\": \"India\",\"Capital\":\"Delhi\"}\n",
        "print(country_info[\"Name\"])"
      ],
      "execution_count": null,
      "outputs": [
        {
          "output_type": "stream",
          "text": [
            "India\n"
          ],
          "name": "stdout"
        }
      ]
    },
    {
      "cell_type": "code",
      "metadata": {
        "id": "ZIhCDTa-rtDO",
        "colab": {
          "base_uri": "https://localhost:8080/"
        },
        "outputId": "334484ac-4677-4393-96e1-0d57cb0ab49e"
      },
      "source": [
        "country_info = { \"Name\": \"India\",\"Capital\":\"Delhi\"}\n",
        "print(country_info[\"Capital\"])"
      ],
      "execution_count": null,
      "outputs": [
        {
          "output_type": "stream",
          "text": [
            "Delhi\n"
          ],
          "name": "stdout"
        }
      ]
    },
    {
      "cell_type": "code",
      "metadata": {
        "id": "ZNZ82fJisbuD",
        "colab": {
          "base_uri": "https://localhost:8080/"
        },
        "outputId": "368de5bc-5ccb-4960-a719-dd2848a16cb7"
      },
      "source": [
        "# Creating a dictionary\n",
        "country_info = { \"Name\": \"Japan\",\"Capital\":\"Tokyo\"}\n",
        "print(country_info)\n",
        "print(country_info[\"Name\"])\n",
        "print(country_info[\"Capital\"])\n"
      ],
      "execution_count": null,
      "outputs": [
        {
          "output_type": "stream",
          "text": [
            "{'Name': 'Japan', 'Capital': 'Tokyo'}\n",
            "Japan\n",
            "Tokyo\n"
          ],
          "name": "stdout"
        }
      ]
    },
    {
      "cell_type": "code",
      "metadata": {
        "id": "fs99fNIusx7H",
        "colab": {
          "base_uri": "https://localhost:8080/"
        },
        "outputId": "a4f54815-9b4b-458f-cac1-d305c0ab140a"
      },
      "source": [
        "country_info['Population']= '139.67M'\n",
        "print(country_info)"
      ],
      "execution_count": null,
      "outputs": [
        {
          "output_type": "stream",
          "text": [
            "{'Name': 'Japan', 'Capital': 'Tokyo', 'Population': '139.67M'}\n"
          ],
          "name": "stdout"
        }
      ]
    },
    {
      "cell_type": "code",
      "metadata": {
        "id": "2GqjpLKXth9_",
        "colab": {
          "base_uri": "https://localhost:8080/"
        },
        "outputId": "db6b3b43-a582-4ff8-efa7-96d2f491047b"
      },
      "source": [
        "country_info['Regions']= ['Hokkaido', 'Tohoku', 'Kanto', 'Chubu', 'Kinki', 'Chugoku']\n",
        "print(country_info)"
      ],
      "execution_count": null,
      "outputs": [
        {
          "output_type": "stream",
          "text": [
            "{'Name': 'Japan', 'Capital': 'Tokyo', 'Population': '139.67M', 'Regions': ['Hokkaido', 'Tohoku', 'Kanto', 'Chubu', 'Kinki', 'Chugoku']}\n"
          ],
          "name": "stdout"
        }
      ]
    },
    {
      "cell_type": "code",
      "metadata": {
        "id": "pMm0RvJA-7u6"
      },
      "source": [
        "# Arithmetic operations\n",
        "a=12\n",
        "b=10"
      ],
      "execution_count": null,
      "outputs": []
    },
    {
      "cell_type": "code",
      "metadata": {
        "id": "t6XJnO7V_FH5",
        "colab": {
          "base_uri": "https://localhost:8080/"
        },
        "outputId": "4d035dbe-aa1f-4ff3-c044-2140d42e2516"
      },
      "source": [
        "#addition\n",
        "print(\"addition,a(12)+b(10)=\"),a+b"
      ],
      "execution_count": null,
      "outputs": [
        {
          "output_type": "stream",
          "text": [
            "addition,a(12)+b(10)=\n"
          ],
          "name": "stdout"
        },
        {
          "output_type": "execute_result",
          "data": {
            "text/plain": [
              "(None, 22)"
            ]
          },
          "metadata": {
            "tags": []
          },
          "execution_count": 36
        }
      ]
    },
    {
      "cell_type": "code",
      "metadata": {
        "id": "1YcbG7YT_f38",
        "colab": {
          "base_uri": "https://localhost:8080/",
          "height": 195
        },
        "outputId": "45ff10f2-550c-4445-e4d7-924b768fa73b"
      },
      "source": [
        "#substraction\n",
        "print(\"minus,a(12)-b(10)=\"),a-b"
      ],
      "execution_count": null,
      "outputs": [
        {
          "output_type": "stream",
          "text": [
            "minus,a(12)-b(10)=\n"
          ],
          "name": "stdout"
        },
        {
          "output_type": "error",
          "ename": "NameError",
          "evalue": "ignored",
          "traceback": [
            "\u001b[0;31m---------------------------------------------------------------------------\u001b[0m",
            "\u001b[0;31mNameError\u001b[0m                                 Traceback (most recent call last)",
            "\u001b[0;32m<ipython-input-1-93539752f3c8>\u001b[0m in \u001b[0;36m<module>\u001b[0;34m()\u001b[0m\n\u001b[1;32m      1\u001b[0m \u001b[0;31m#substraction\u001b[0m\u001b[0;34m\u001b[0m\u001b[0;34m\u001b[0m\u001b[0;34m\u001b[0m\u001b[0m\n\u001b[0;32m----> 2\u001b[0;31m \u001b[0mprint\u001b[0m\u001b[0;34m(\u001b[0m\u001b[0;34m\"minus,a(12)-b(10)=\"\u001b[0m\u001b[0;34m)\u001b[0m\u001b[0;34m,\u001b[0m\u001b[0ma\u001b[0m\u001b[0;34m-\u001b[0m\u001b[0mb\u001b[0m\u001b[0;34m\u001b[0m\u001b[0;34m\u001b[0m\u001b[0m\n\u001b[0m",
            "\u001b[0;31mNameError\u001b[0m: name 'a' is not defined"
          ]
        }
      ]
    },
    {
      "cell_type": "code",
      "metadata": {
        "id": "VjnniDae_0-h",
        "colab": {
          "base_uri": "https://localhost:8080/"
        },
        "outputId": "ca178007-65d2-470c-a7ed-01cac34643b9"
      },
      "source": [
        "#multiplication\n",
        "print(\"multiplication,a(12)*b(10)=\"),a*b"
      ],
      "execution_count": null,
      "outputs": [
        {
          "output_type": "stream",
          "text": [
            "multiplication,a(12)*b(10)=\n"
          ],
          "name": "stdout"
        },
        {
          "output_type": "execute_result",
          "data": {
            "text/plain": [
              "(None, 120)"
            ]
          },
          "metadata": {
            "tags": []
          },
          "execution_count": 38
        }
      ]
    },
    {
      "cell_type": "code",
      "metadata": {
        "id": "JYPWXvJdAAX_",
        "colab": {
          "base_uri": "https://localhost:8080/"
        },
        "outputId": "af1bfdb7-61bd-440a-c9d7-18643a7ce47b"
      },
      "source": [
        "#division\n",
        "print(\"division,a(12)/b(10)=\"),a/b"
      ],
      "execution_count": null,
      "outputs": [
        {
          "output_type": "stream",
          "text": [
            "division,a(12)/b(10)=\n"
          ],
          "name": "stdout"
        },
        {
          "output_type": "execute_result",
          "data": {
            "text/plain": [
              "(None, 1.2)"
            ]
          },
          "metadata": {
            "tags": []
          },
          "execution_count": 39
        }
      ]
    },
    {
      "cell_type": "code",
      "metadata": {
        "id": "jsfdfBNvALcp",
        "colab": {
          "base_uri": "https://localhost:8080/"
        },
        "outputId": "56af2db8-114a-42cf-9622-212c3e77d8e0"
      },
      "source": [
        "#modulus\n",
        "print(\"modulus,a(12)%b(10)=\"),a%b"
      ],
      "execution_count": null,
      "outputs": [
        {
          "output_type": "stream",
          "text": [
            "modulus,a(12)%b(10)=\n"
          ],
          "name": "stdout"
        },
        {
          "output_type": "execute_result",
          "data": {
            "text/plain": [
              "(None, 2)"
            ]
          },
          "metadata": {
            "tags": []
          },
          "execution_count": 41
        }
      ]
    },
    {
      "cell_type": "markdown",
      "metadata": {
        "id": "485Y8d_uymPB"
      },
      "source": [
        "**Conditional Statements-IF and Else**"
      ]
    },
    {
      "cell_type": "code",
      "metadata": {
        "id": "4i84XV9ry2SX",
        "colab": {
          "base_uri": "https://localhost:8080/"
        },
        "outputId": "0fec5514-1ce0-4b6c-9870-205c3e29b117"
      },
      "source": [
        "# Using the if Statement\n",
        "x=1\n",
        "if x < 10:\n",
        "    print(\"Less than 10\")\n",
        "else:\n",
        "    print(\"Over 10\")    \n"
      ],
      "execution_count": null,
      "outputs": [
        {
          "output_type": "stream",
          "text": [
            "Less than 10\n"
          ],
          "name": "stdout"
        }
      ]
    },
    {
      "cell_type": "code",
      "metadata": {
        "id": "n9kNSotwzfB1",
        "colab": {
          "base_uri": "https://localhost:8080/"
        },
        "outputId": "acdcd6e2-03f2-4776-9c00-575fe284ca47"
      },
      "source": [
        "# Using the if Statement\n",
        "x=19\n",
        "if x < 10:\n",
        "    print(\"Less than 10\")\n",
        "else:\n",
        "    print(\"Over 10\")    \n"
      ],
      "execution_count": null,
      "outputs": [
        {
          "output_type": "stream",
          "text": [
            "Over 10\n"
          ],
          "name": "stdout"
        }
      ]
    },
    {
      "cell_type": "code",
      "metadata": {
        "id": "SBtBxZn2z4-G",
        "colab": {
          "base_uri": "https://localhost:8080/"
        },
        "outputId": "3df77aaa-d60e-4fb3-fe20-f364d409face"
      },
      "source": [
        "# Using the if Statement\n",
        "x=1\n",
        "if x < 10:\n",
        "    print(\"Less than 10\")\n",
        "elif x>10 and x <= 15:\n",
        "  print(\"greater than zero but less than 10\")\n",
        "else:\n",
        "    print(\"Over 20\")    \n"
      ],
      "execution_count": null,
      "outputs": [
        {
          "output_type": "stream",
          "text": [
            "Less than 10\n"
          ],
          "name": "stdout"
        }
      ]
    },
    {
      "cell_type": "code",
      "metadata": {
        "id": "hClbMT5J284h",
        "colab": {
          "base_uri": "https://localhost:8080/"
        },
        "outputId": "1e5d6b81-ea67-497a-d878-8883794e62f2"
      },
      "source": [
        "# Using the if Statement\n",
        "x=19\n",
        "if x < 10:\n",
        "    print(\"Less than 10\")\n",
        "elif x>10 and x <= 19:\n",
        "  print(\"greater than zero but less than 10\")\n",
        "else:\n",
        "    print(\"Over 20\")    \n"
      ],
      "execution_count": null,
      "outputs": [
        {
          "output_type": "stream",
          "text": [
            "greater than zero but less than 10\n"
          ],
          "name": "stdout"
        }
      ]
    },
    {
      "cell_type": "markdown",
      "metadata": {
        "id": "2_Gkc5k-Anoz"
      },
      "source": [
        "***boolean in condition***"
      ]
    },
    {
      "cell_type": "code",
      "metadata": {
        "id": "ER31wXt5Ax4g",
        "colab": {
          "base_uri": "https://localhost:8080/"
        },
        "outputId": "897f0c97-d508-4ba1-f286-ee54d2729e75"
      },
      "source": [
        "a=True\n",
        "if a:\n",
        "  print(\" statement was true\")"
      ],
      "execution_count": null,
      "outputs": [
        {
          "output_type": "stream",
          "text": [
            " statement was true\n"
          ],
          "name": "stdout"
        }
      ]
    },
    {
      "cell_type": "markdown",
      "metadata": {
        "id": "Gt4QCKTaArx_"
      },
      "source": [
        ""
      ]
    },
    {
      "cell_type": "markdown",
      "metadata": {
        "id": "fiV15K1HBSld"
      },
      "source": [
        "***Loops***"
      ]
    },
    {
      "cell_type": "code",
      "metadata": {
        "id": "SrAJquDYBaxt",
        "colab": {
          "base_uri": "https://localhost:8080/"
        },
        "outputId": "ededb151-e3c0-476f-d206-dce9b156048c"
      },
      "source": [
        "print(list(range(5)))"
      ],
      "execution_count": null,
      "outputs": [
        {
          "output_type": "stream",
          "text": [
            "[0, 1, 2, 3, 4]\n"
          ],
          "name": "stdout"
        }
      ]
    },
    {
      "cell_type": "code",
      "metadata": {
        "id": "g1ZXcC0uBzor",
        "colab": {
          "base_uri": "https://localhost:8080/"
        },
        "outputId": "ad5cf6d1-b430-4499-ad11-e54b87a12ec9"
      },
      "source": [
        "print(list(range(1,5)))"
      ],
      "execution_count": null,
      "outputs": [
        {
          "output_type": "stream",
          "text": [
            "[1, 2, 3, 4]\n"
          ],
          "name": "stdout"
        }
      ]
    },
    {
      "cell_type": "code",
      "metadata": {
        "id": "LOSMOmIyCE3R",
        "colab": {
          "base_uri": "https://localhost:8080/"
        },
        "outputId": "66c98177-5a55-4cff-8143-7dd89fe1ed3d"
      },
      "source": [
        "for i in range(0,5):\n",
        "   print(i)"
      ],
      "execution_count": null,
      "outputs": [
        {
          "output_type": "stream",
          "text": [
            "0\n",
            "1\n",
            "2\n",
            "3\n",
            "4\n"
          ],
          "name": "stdout"
        }
      ]
    },
    {
      "cell_type": "markdown",
      "metadata": {
        "id": "oq-xoI8HCxE9"
      },
      "source": [
        "**while loop**"
      ]
    },
    {
      "cell_type": "code",
      "metadata": {
        "id": "bkO7HB0KC1Hu",
        "colab": {
          "base_uri": "https://localhost:8080/"
        },
        "outputId": "6bdb671c-dff2-4854-a7b6-cd8dfb5afe2f"
      },
      "source": [
        "x=0\n",
        "while x<5:\n",
        "  x += 1\n",
        "  print(x)"
      ],
      "execution_count": null,
      "outputs": [
        {
          "output_type": "stream",
          "text": [
            "1\n",
            "2\n",
            "3\n",
            "4\n",
            "5\n"
          ],
          "name": "stdout"
        }
      ]
    },
    {
      "cell_type": "code",
      "metadata": {
        "id": "2PiuMhz-DGdL",
        "colab": {
          "base_uri": "https://localhost:8080/"
        },
        "outputId": "f9be47cd-1556-4550-a578-3562f63fbcd9"
      },
      "source": [
        "x=0\n",
        "while True:\n",
        "   if x == 5:\n",
        "      break\n",
        "   x += 1\n",
        "   print(x)"
      ],
      "execution_count": null,
      "outputs": [
        {
          "output_type": "stream",
          "text": [
            "1\n",
            "2\n",
            "3\n",
            "4\n",
            "5\n"
          ],
          "name": "stdout"
        }
      ]
    },
    {
      "cell_type": "markdown",
      "metadata": {
        "id": "0nSKt4CrD8_7"
      },
      "source": [
        "**Functions**"
      ]
    },
    {
      "cell_type": "code",
      "metadata": {
        "id": "JBKT6UHnEan6"
      },
      "source": [
        "#Simple functions to return area of circle\n",
        "def AreaCircle(radius):\n",
        "    area=3.14*(radius**2)\n",
        "    return area"
      ],
      "execution_count": null,
      "outputs": []
    },
    {
      "cell_type": "code",
      "metadata": {
        "id": "Fv_PNK83E1YX",
        "colab": {
          "base_uri": "https://localhost:8080/"
        },
        "outputId": "b02ce0ba-5edb-4ee5-d960-b56e46bf32b7"
      },
      "source": [
        "AreaCircle(4)"
      ],
      "execution_count": null,
      "outputs": [
        {
          "output_type": "execute_result",
          "data": {
            "text/plain": [
              "50.24"
            ]
          },
          "metadata": {
            "tags": []
          },
          "execution_count": 55
        }
      ]
    },
    {
      "cell_type": "code",
      "metadata": {
        "id": "dJjI-tIiE9jI"
      },
      "source": [
        "#Simple functions to return volume of cylinder\n",
        "def VolumeCylinder(radius,height):\n",
        "    Volume=3.14*(radius**2)*(height)\n",
        "    return Volume"
      ],
      "execution_count": null,
      "outputs": []
    },
    {
      "cell_type": "code",
      "metadata": {
        "id": "VDDtMe-XFiy2",
        "colab": {
          "base_uri": "https://localhost:8080/"
        },
        "outputId": "c19b72ca-c0fa-4594-ef48-14de00a35ee3"
      },
      "source": [
        "VolumeCylinder(radius=15,height=56)"
      ],
      "execution_count": null,
      "outputs": [
        {
          "output_type": "execute_result",
          "data": {
            "text/plain": [
              "39564.0"
            ]
          },
          "metadata": {
            "tags": []
          },
          "execution_count": 58
        }
      ]
    },
    {
      "cell_type": "code",
      "metadata": {
        "id": "tbNgV4gfzvtu"
      },
      "source": [
        ""
      ],
      "execution_count": null,
      "outputs": []
    }
  ]
}