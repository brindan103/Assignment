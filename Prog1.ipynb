{
  "nbformat": 4,
  "nbformat_minor": 0,
  "metadata": {
    "colab": {
      "name": "Prog1.ipynb",
      "provenance": [],
      "collapsed_sections": []
    },
    "kernelspec": {
      "display_name": "Python 3",
      "name": "python3"
    }
  },
  "cells": [
    {
      "cell_type": "markdown",
      "metadata": {
        "id": "lBjBBADloeBH"
      },
      "source": [
        "\n",
        "# Phython Beginner's Tutorial\n",
        "\n"
      ]
    },
    {
      "cell_type": "markdown",
      "metadata": {
        "id": "Mbkh7Kjbob78"
      },
      "source": [
        "Let us start with simple programs of defining variable"
      ]
    },
    {
      "cell_type": "markdown",
      "metadata": {
        "id": "PF-b-Y3fo1G1"
      },
      "source": [
        "Variable---containers---buffer---memory space---hold or store information in the form of text or number"
      ]
    },
    {
      "cell_type": "code",
      "metadata": {
        "id": "j-Gswr2ipuYL",
        "colab": {
          "base_uri": "https://localhost:8080/"
        },
        "outputId": "a7c90ab4-6bd9-42ba-f480-2bdcf48b6d23"
      },
      "source": [
        "# Storing a number\n",
        "a = 144\n",
        "print(a)"
      ],
      "execution_count": null,
      "outputs": [
        {
          "output_type": "stream",
          "text": [
            "144\n"
          ],
          "name": "stdout"
        }
      ]
    },
    {
      "cell_type": "code",
      "metadata": {
        "id": "yiXT8np3p9VQ",
        "colab": {
          "base_uri": "https://localhost:8080/"
        },
        "outputId": "14e1f80a-1147-470d-eff2-e46dbdbf773a"
      },
      "source": [
        "# Storing a number\n",
        "b = 144\n",
        "print(b)"
      ],
      "execution_count": null,
      "outputs": [
        {
          "output_type": "stream",
          "text": [
            "144\n"
          ],
          "name": "stdout"
        }
      ]
    },
    {
      "cell_type": "code",
      "metadata": {
        "id": "L1vcmBLWqPJC",
        "colab": {
          "base_uri": "https://localhost:8080/"
        },
        "outputId": "5b688df0-46a7-4773-a089-61b23a4d91a2"
      },
      "source": [
        "c=a+b\n",
        "print(c)"
      ],
      "execution_count": null,
      "outputs": [
        {
          "output_type": "stream",
          "text": [
            "288\n"
          ],
          "name": "stdout"
        }
      ]
    },
    {
      "cell_type": "code",
      "metadata": {
        "id": "fzLUwpWpqZWk",
        "colab": {
          "base_uri": "https://localhost:8080/"
        },
        "outputId": "ba5da797-84a2-430a-d1da-7111cd164ee2"
      },
      "source": [
        "a"
      ],
      "execution_count": null,
      "outputs": [
        {
          "output_type": "execute_result",
          "data": {
            "text/plain": [
              "144"
            ]
          },
          "metadata": {
            "tags": []
          },
          "execution_count": 8
        }
      ]
    },
    {
      "cell_type": "code",
      "metadata": {
        "id": "82n9XFKRqcXt",
        "colab": {
          "base_uri": "https://localhost:8080/"
        },
        "outputId": "7a0d44d4-7a1e-4284-9633-ab0a7a14f1a3"
      },
      "source": [
        "b"
      ],
      "execution_count": null,
      "outputs": [
        {
          "output_type": "execute_result",
          "data": {
            "text/plain": [
              "144"
            ]
          },
          "metadata": {
            "tags": []
          },
          "execution_count": 9
        }
      ]
    },
    {
      "cell_type": "code",
      "metadata": {
        "id": "kcx_Msj-qeu-",
        "colab": {
          "base_uri": "https://localhost:8080/"
        },
        "outputId": "f494eaaa-f54f-4c9c-cee1-94fc16618583"
      },
      "source": [
        "c"
      ],
      "execution_count": null,
      "outputs": [
        {
          "output_type": "execute_result",
          "data": {
            "text/plain": [
              "288"
            ]
          },
          "metadata": {
            "tags": []
          },
          "execution_count": 10
        }
      ]
    },
    {
      "cell_type": "code",
      "metadata": {
        "id": "b1gQ-MzsqhIr",
        "colab": {
          "base_uri": "https://localhost:8080/"
        },
        "outputId": "ca6acd0a-8e5f-402c-b610-50c8faad6223"
      },
      "source": [
        "# Text\n",
        "d = \"This is our introductory class to google colab\"\n",
        "print(d)"
      ],
      "execution_count": null,
      "outputs": [
        {
          "output_type": "stream",
          "text": [
            "This is our introductory class to google colab\n"
          ],
          "name": "stdout"
        }
      ]
    },
    {
      "cell_type": "code",
      "metadata": {
        "id": "QPlYZN4Nq0B4",
        "colab": {
          "base_uri": "https://localhost:8080/",
          "height": 35
        },
        "outputId": "c1a10ada-f897-400e-8079-99c99a3dffa2"
      },
      "source": [
        "d"
      ],
      "execution_count": null,
      "outputs": [
        {
          "output_type": "execute_result",
          "data": {
            "application/vnd.google.colaboratory.intrinsic+json": {
              "type": "string"
            },
            "text/plain": [
              "'This is our introductory class to google colab'"
            ]
          },
          "metadata": {
            "tags": []
          },
          "execution_count": 12
        }
      ]
    },
    {
      "cell_type": "markdown",
      "metadata": {
        "id": "ZpX1xKNrrMm1"
      },
      "source": [
        "What can we do with these variables?"
      ]
    },
    {
      "cell_type": "code",
      "metadata": {
        "id": "ZP6ZEFLbrZpd",
        "colab": {
          "base_uri": "https://localhost:8080/"
        },
        "outputId": "af25f0cf-30e5-47a8-acb2-1bb6fb17fccd"
      },
      "source": [
        "a = 3\n",
        "b = 34\n",
        "d = a+b\n",
        "print(d)"
      ],
      "execution_count": null,
      "outputs": [
        {
          "output_type": "stream",
          "text": [
            "37\n"
          ],
          "name": "stdout"
        }
      ]
    },
    {
      "cell_type": "code",
      "metadata": {
        "id": "4WgYcc6zr4Oj",
        "colab": {
          "base_uri": "https://localhost:8080/"
        },
        "outputId": "db762650-d82a-41d5-b9ea-da5277867a76"
      },
      "source": [
        "c"
      ],
      "execution_count": null,
      "outputs": [
        {
          "output_type": "execute_result",
          "data": {
            "text/plain": [
              "288"
            ]
          },
          "metadata": {
            "tags": []
          },
          "execution_count": 14
        }
      ]
    },
    {
      "cell_type": "code",
      "metadata": {
        "id": "tMWTBD5br-fY",
        "colab": {
          "base_uri": "https://localhost:8080/"
        },
        "outputId": "26aff61d-1f58-44e6-80b1-d8054ce72219"
      },
      "source": [
        "print(d+c)"
      ],
      "execution_count": null,
      "outputs": [
        {
          "output_type": "stream",
          "text": [
            "325\n"
          ],
          "name": "stdout"
        }
      ]
    },
    {
      "cell_type": "code",
      "metadata": {
        "id": "b7aOcSELsHDD"
      },
      "source": [
        "# How to change the variable values and equate or copy variable"
      ],
      "execution_count": null,
      "outputs": []
    },
    {
      "cell_type": "code",
      "metadata": {
        "id": "xFkWoUzisS1n",
        "colab": {
          "base_uri": "https://localhost:8080/"
        },
        "outputId": "134f3df0-4e85-49fb-a807-6c202bde857e"
      },
      "source": [
        "a = 18\n",
        "print(a)"
      ],
      "execution_count": null,
      "outputs": [
        {
          "output_type": "stream",
          "text": [
            "18\n"
          ],
          "name": "stdout"
        }
      ]
    },
    {
      "cell_type": "code",
      "metadata": {
        "id": "bt3P4kUgsgCT",
        "colab": {
          "base_uri": "https://localhost:8080/"
        },
        "outputId": "0d8976ad-1be4-468a-dd43-5af7f42686bf"
      },
      "source": [
        "e=a\n",
        "print(e)"
      ],
      "execution_count": null,
      "outputs": [
        {
          "output_type": "stream",
          "text": [
            "18\n"
          ],
          "name": "stdout"
        }
      ]
    },
    {
      "cell_type": "code",
      "metadata": {
        "id": "4RiQ8sgVssCd",
        "colab": {
          "base_uri": "https://localhost:8080/"
        },
        "outputId": "f1a10994-3166-44ca-e183-bf118766389b"
      },
      "source": [
        "# Types of variables\n",
        "# Integer variable\n",
        "a = 9\n",
        "print(a)\n",
        "print(type(a))"
      ],
      "execution_count": null,
      "outputs": [
        {
          "output_type": "stream",
          "text": [
            "9\n",
            "<class 'int'>\n"
          ],
          "name": "stdout"
        }
      ]
    },
    {
      "cell_type": "code",
      "metadata": {
        "id": "u_BjmgdNtF3f",
        "colab": {
          "base_uri": "https://localhost:8080/"
        },
        "outputId": "5e4fdc47-0073-4305-8a16-fa4cb4edb714"
      },
      "source": [
        "# Types of variables\n",
        "# Floating Type variable\n",
        "a = 5.578\n",
        "print(a)\n",
        "print(type(a))"
      ],
      "execution_count": null,
      "outputs": [
        {
          "output_type": "stream",
          "text": [
            "5.578\n",
            "<class 'float'>\n"
          ],
          "name": "stdout"
        }
      ]
    },
    {
      "cell_type": "code",
      "metadata": {
        "id": "FC39Qw3byWGA",
        "colab": {
          "base_uri": "https://localhost:8080/"
        },
        "outputId": "5a23223c-6d6e-41fd-8b91-7607b03efd38"
      },
      "source": [
        "# Types of variables\n",
        "# Boolean variable--- True or false\n",
        "a = True\n",
        "print(a)\n",
        "print(type(a))"
      ],
      "execution_count": null,
      "outputs": [
        {
          "output_type": "stream",
          "text": [
            "True\n",
            "<class 'bool'>\n"
          ],
          "name": "stdout"
        }
      ]
    },
    {
      "cell_type": "code",
      "metadata": {
        "id": "zJE9ZRz4ytR6",
        "colab": {
          "base_uri": "https://localhost:8080/"
        },
        "outputId": "22a3711f-b535-4f25-8d54-7bd0b70ea36d"
      },
      "source": [
        "# Types of variables\n",
        "# Float variable\n",
        "a = \"5\"\n",
        "print(a)\n",
        "print(type(a))"
      ],
      "execution_count": null,
      "outputs": [
        {
          "output_type": "stream",
          "text": [
            "5\n",
            "<class 'str'>\n"
          ],
          "name": "stdout"
        }
      ]
    },
    {
      "cell_type": "code",
      "metadata": {
        "id": "7qpvwRSbzBwA",
        "colab": {
          "base_uri": "https://localhost:8080/"
        },
        "outputId": "1e32c2a4-200d-42f3-98cd-713463971600"
      },
      "source": [
        "# Types of variables\n",
        "# Concatenate String\n",
        "date = \"10\"\n",
        "month = \"10\"\n",
        "year = \"2020\"\n",
        "a = date+month+year\n",
        "print(a)\n",
        "print(type(a))"
      ],
      "execution_count": null,
      "outputs": [
        {
          "output_type": "stream",
          "text": [
            "10102020\n",
            "<class 'str'>\n"
          ],
          "name": "stdout"
        }
      ]
    },
    {
      "cell_type": "markdown",
      "metadata": {
        "id": "ZnKfXEEzzkoS"
      },
      "source": [
        " *Array or List Variable *Array or List Variable--containers--extremely useful in programming"
      ]
    },
    {
      "cell_type": "code",
      "metadata": {
        "id": "kTrU-a7B0Sh5",
        "colab": {
          "base_uri": "https://localhost:8080/"
        },
        "outputId": "05aafc05-d77f-4198-953a-1a0ba48f81a1"
      },
      "source": [
        "# Array or List Variable\n",
        "a = [1, 2, 3]\n",
        "print(a)"
      ],
      "execution_count": null,
      "outputs": [
        {
          "output_type": "stream",
          "text": [
            "[1, 2, 3]\n"
          ],
          "name": "stdout"
        }
      ]
    },
    {
      "cell_type": "code",
      "metadata": {
        "id": "btG7ww458k3_",
        "colab": {
          "base_uri": "https://localhost:8080/"
        },
        "outputId": "3731ba37-a586-4e86-a6b3-e4b10088f156"
      },
      "source": [
        "# Array or List Variable\n",
        "b = [1, 2, 3]\n",
        "print(b)"
      ],
      "execution_count": null,
      "outputs": [
        {
          "output_type": "stream",
          "text": [
            "[1, 2, 3]\n"
          ],
          "name": "stdout"
        }
      ]
    },
    {
      "cell_type": "code",
      "metadata": {
        "id": "y0uDLpbK8vBO",
        "colab": {
          "base_uri": "https://localhost:8080/"
        },
        "outputId": "b1d1f526-fef4-4f82-9462-38eab9cf5853"
      },
      "source": [
        "# Array or List Variable\n",
        "c = [1, 2, 3,\"Text\",\"Variables\"]\n",
        "print(c)"
      ],
      "execution_count": null,
      "outputs": [
        {
          "output_type": "stream",
          "text": [
            "[1, 2, 3, 'Text', 'Variables']\n"
          ],
          "name": "stdout"
        }
      ]
    },
    {
      "cell_type": "code",
      "metadata": {
        "id": "i29jEhHh86MJ",
        "colab": {
          "base_uri": "https://localhost:8080/"
        },
        "outputId": "e4b46a08-887f-49c1-bc46-4f5c81980cb0"
      },
      "source": [
        "# Array or List Variable\n",
        "c = [1, 2, 3,\"Text\",\"Variables\"]\n",
        "print(c[0])\n",
        "print(c[1])\n",
        "print(c[2])\n",
        "print(c[3])\n",
        "print(c[4])"
      ],
      "execution_count": null,
      "outputs": [
        {
          "output_type": "stream",
          "text": [
            "1\n",
            "2\n",
            "3\n",
            "Text\n",
            "Variables\n"
          ],
          "name": "stdout"
        }
      ]
    },
    {
      "cell_type": "code",
      "metadata": {
        "id": "OVc93NmY9WPv",
        "colab": {
          "base_uri": "https://localhost:8080/"
        },
        "outputId": "dbca162d-d449-44b5-f5d0-bd4168a128bc"
      },
      "source": [
        "c.append(4)\n",
        "print(c)"
      ],
      "execution_count": null,
      "outputs": [
        {
          "output_type": "stream",
          "text": [
            "[1, 2, 3, 'Text', 'Variables', 4]\n"
          ],
          "name": "stdout"
        }
      ]
    },
    {
      "cell_type": "code",
      "metadata": {
        "id": "lyI9hDzC9fu2",
        "colab": {
          "base_uri": "https://localhost:8080/"
        },
        "outputId": "00996345-7031-431f-9209-2eaf4cb798e8"
      },
      "source": [
        "print(len(c))"
      ],
      "execution_count": null,
      "outputs": [
        {
          "output_type": "stream",
          "text": [
            "6\n"
          ],
          "name": "stdout"
        }
      ]
    },
    {
      "cell_type": "code",
      "metadata": {
        "id": "W01mk99Z9j_L",
        "colab": {
          "base_uri": "https://localhost:8080/"
        },
        "outputId": "67d1e2d1-d55d-40a8-88a4-ef85bc0b30c3"
      },
      "source": [
        "c[4]=5\n",
        "print(c)"
      ],
      "execution_count": null,
      "outputs": [
        {
          "output_type": "stream",
          "text": [
            "[1, 2, 3, 'Text', 5, 4]\n"
          ],
          "name": "stdout"
        }
      ]
    },
    {
      "cell_type": "code",
      "metadata": {
        "id": "RN22DIlr9qyW",
        "colab": {
          "base_uri": "https://localhost:8080/"
        },
        "outputId": "5d91a809-76ad-468a-8244-6e6a9021d7a3"
      },
      "source": [
        "print(\"All Elements of C Variable: \", c[:])"
      ],
      "execution_count": null,
      "outputs": [
        {
          "output_type": "stream",
          "text": [
            "All Elements of C Variable:  [1, 2, 3, 'Text', 5, 4]\n"
          ],
          "name": "stdout"
        }
      ]
    },
    {
      "cell_type": "code",
      "metadata": {
        "id": "2QfeO8Yy96Qi",
        "colab": {
          "base_uri": "https://localhost:8080/"
        },
        "outputId": "6aeebf2b-2bda-48da-c6a5-ef082025928d"
      },
      "source": [
        "print(\"All Elements of C Variable from 3rd position onward: \", c[2:])"
      ],
      "execution_count": null,
      "outputs": [
        {
          "output_type": "stream",
          "text": [
            "All Elements of C Variable from 3rd position onward:  [3, 'Text', 5, 4]\n"
          ],
          "name": "stdout"
        }
      ]
    },
    {
      "cell_type": "code",
      "metadata": {
        "id": "1Rilw6kE-ENd",
        "colab": {
          "base_uri": "https://localhost:8080/"
        },
        "outputId": "067f6e29-6a93-40d4-ab49-08f119e35fd4"
      },
      "source": [
        "print(\"All Elements of C Variable from 2nd to 4th position onward: \", c[1:3])"
      ],
      "execution_count": null,
      "outputs": [
        {
          "output_type": "stream",
          "text": [
            "All Elements of C Variable from 2nd to 4th position onward:  [2, 3]\n"
          ],
          "name": "stdout"
        }
      ]
    },
    {
      "cell_type": "code",
      "metadata": {
        "id": "udK8zUYW-Sgi",
        "colab": {
          "base_uri": "https://localhost:8080/"
        },
        "outputId": "6dbc873b-78bc-4299-fa16-77647de6e48a"
      },
      "source": [
        "print(\"All Elements of C Variable from 3rd position onward: \", c[:-1])"
      ],
      "execution_count": null,
      "outputs": [
        {
          "output_type": "stream",
          "text": [
            "All Elements of C Variable from 3rd position onward:  [1, 2, 3, 'Text', 5]\n"
          ],
          "name": "stdout"
        }
      ]
    }
  ]
}